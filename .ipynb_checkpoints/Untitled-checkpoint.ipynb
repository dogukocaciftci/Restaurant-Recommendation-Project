{
 "cells": [
  {
   "cell_type": "code",
   "execution_count": 1,
   "id": "02a22571",
   "metadata": {},
   "outputs": [],
   "source": [
    "import pandas as pd\n",
    "import numpy as np"
   ]
  },
  {
   "cell_type": "code",
   "execution_count": 2,
   "id": "a41dc35d",
   "metadata": {},
   "outputs": [],
   "source": [
    "df = pd.read_csv('TripAdvisor_RestauarantRecommendation.csv')"
   ]
  },
  {
   "cell_type": "code",
   "execution_count": 3,
   "id": "8ca71735",
   "metadata": {},
   "outputs": [
    {
     "data": {
      "text/html": [
       "<div>\n",
       "<style scoped>\n",
       "    .dataframe tbody tr th:only-of-type {\n",
       "        vertical-align: middle;\n",
       "    }\n",
       "\n",
       "    .dataframe tbody tr th {\n",
       "        vertical-align: top;\n",
       "    }\n",
       "\n",
       "    .dataframe thead th {\n",
       "        text-align: right;\n",
       "    }\n",
       "</style>\n",
       "<table border=\"1\" class=\"dataframe\">\n",
       "  <thead>\n",
       "    <tr style=\"text-align: right;\">\n",
       "      <th></th>\n",
       "      <th>Name</th>\n",
       "      <th>Street Address</th>\n",
       "      <th>Location</th>\n",
       "      <th>Type</th>\n",
       "      <th>Reviews</th>\n",
       "      <th>No of Reviews</th>\n",
       "      <th>Comments</th>\n",
       "      <th>Contact Number</th>\n",
       "      <th>Trip_advisor Url</th>\n",
       "      <th>Menu</th>\n",
       "      <th>Price_Range</th>\n",
       "    </tr>\n",
       "  </thead>\n",
       "  <tbody>\n",
       "    <tr>\n",
       "      <th>0</th>\n",
       "      <td>Betty Lou's Seafood and Grill</td>\n",
       "      <td>318 Columbus Ave</td>\n",
       "      <td>San Francisco, CA 94133-3908</td>\n",
       "      <td>Seafood, Vegetarian Friendly, Vegan Options</td>\n",
       "      <td>4.5 of 5 bubbles</td>\n",
       "      <td>243 reviews</td>\n",
       "      <td>NaN</td>\n",
       "      <td>+1 415-757-0569</td>\n",
       "      <td>https://www.tripadvisor.com//Restaurant_Review...</td>\n",
       "      <td>Check The Website for a Menu</td>\n",
       "      <td>$$ - $$$</td>\n",
       "    </tr>\n",
       "    <tr>\n",
       "      <th>1</th>\n",
       "      <td>Coach House Diner</td>\n",
       "      <td>55 State Rt 4</td>\n",
       "      <td>Hackensack, NJ 07601-6337</td>\n",
       "      <td>Diner, American, Vegetarian Friendly</td>\n",
       "      <td>4 of 5 bubbles</td>\n",
       "      <td>84 reviews</td>\n",
       "      <td>Both times we were there very late, after 11 P...</td>\n",
       "      <td>+1 201-488-4999</td>\n",
       "      <td>https://www.tripadvisor.com//Restaurant_Review...</td>\n",
       "      <td>Check The Website for a Menu</td>\n",
       "      <td>$$ - $$$</td>\n",
       "    </tr>\n",
       "    <tr>\n",
       "      <th>2</th>\n",
       "      <td>Table Talk Diner</td>\n",
       "      <td>2521 South Rd Ste C</td>\n",
       "      <td>Poughkeepsie, NY 12601-5476</td>\n",
       "      <td>American, Diner, Vegetarian Friendly</td>\n",
       "      <td>4 of 5 bubbles</td>\n",
       "      <td>256 reviews</td>\n",
       "      <td>Waitress was very friendly but a little pricey...</td>\n",
       "      <td>+1 845-849-2839</td>\n",
       "      <td>https://www.tripadvisor.com//Restaurant_Review...</td>\n",
       "      <td>http://tabletalkdiner.com/menu/breakfast/</td>\n",
       "      <td>$$ - $$$</td>\n",
       "    </tr>\n",
       "    <tr>\n",
       "      <th>3</th>\n",
       "      <td>Sixty Vines</td>\n",
       "      <td>3701 Dallas Pkwy</td>\n",
       "      <td>Plano, TX 75093-7777</td>\n",
       "      <td>American, Wine Bar, Vegetarian Friendly</td>\n",
       "      <td>4.5 of 5 bubbles</td>\n",
       "      <td>235 reviews</td>\n",
       "      <td>Not sure why I went there for the second time....</td>\n",
       "      <td>+1 469-620-8463</td>\n",
       "      <td>https://www.tripadvisor.com//Restaurant_Review...</td>\n",
       "      <td>https://sixtyvines.com/menu/plano-tx/</td>\n",
       "      <td>$$ - $$$</td>\n",
       "    </tr>\n",
       "    <tr>\n",
       "      <th>4</th>\n",
       "      <td>The Clam Bar</td>\n",
       "      <td>3914 Brewerton Rd</td>\n",
       "      <td>Syracuse, NY 13212</td>\n",
       "      <td>American, Bar, Seafood</td>\n",
       "      <td>4 of 5 bubbles</td>\n",
       "      <td>285 reviews</td>\n",
       "      <td>Doesn't look like much from the outside but wa...</td>\n",
       "      <td>+1 315-458-1662</td>\n",
       "      <td>https://www.tripadvisor.com//Restaurant_Review...</td>\n",
       "      <td>Check The Website for a Menu</td>\n",
       "      <td>$$ - $$$</td>\n",
       "    </tr>\n",
       "  </tbody>\n",
       "</table>\n",
       "</div>"
      ],
      "text/plain": [
       "                            Name       Street Address  \\\n",
       "0  Betty Lou's Seafood and Grill     318 Columbus Ave   \n",
       "1              Coach House Diner        55 State Rt 4   \n",
       "2               Table Talk Diner  2521 South Rd Ste C   \n",
       "3                    Sixty Vines     3701 Dallas Pkwy   \n",
       "4                   The Clam Bar    3914 Brewerton Rd   \n",
       "\n",
       "                       Location                                          Type  \\\n",
       "0  San Francisco, CA 94133-3908   Seafood, Vegetarian Friendly, Vegan Options   \n",
       "1     Hackensack, NJ 07601-6337          Diner, American, Vegetarian Friendly   \n",
       "2   Poughkeepsie, NY 12601-5476          American, Diner, Vegetarian Friendly   \n",
       "3          Plano, TX 75093-7777       American, Wine Bar, Vegetarian Friendly   \n",
       "4            Syracuse, NY 13212                        American, Bar, Seafood   \n",
       "\n",
       "            Reviews No of Reviews  \\\n",
       "0  4.5 of 5 bubbles   243 reviews   \n",
       "1    4 of 5 bubbles    84 reviews   \n",
       "2    4 of 5 bubbles   256 reviews   \n",
       "3  4.5 of 5 bubbles   235 reviews   \n",
       "4    4 of 5 bubbles   285 reviews   \n",
       "\n",
       "                                            Comments   Contact Number  \\\n",
       "0                                                NaN  +1 415-757-0569   \n",
       "1  Both times we were there very late, after 11 P...  +1 201-488-4999   \n",
       "2  Waitress was very friendly but a little pricey...  +1 845-849-2839   \n",
       "3  Not sure why I went there for the second time....  +1 469-620-8463   \n",
       "4  Doesn't look like much from the outside but wa...  +1 315-458-1662   \n",
       "\n",
       "                                    Trip_advisor Url  \\\n",
       "0  https://www.tripadvisor.com//Restaurant_Review...   \n",
       "1  https://www.tripadvisor.com//Restaurant_Review...   \n",
       "2  https://www.tripadvisor.com//Restaurant_Review...   \n",
       "3  https://www.tripadvisor.com//Restaurant_Review...   \n",
       "4  https://www.tripadvisor.com//Restaurant_Review...   \n",
       "\n",
       "                                        Menu Price_Range  \n",
       "0               Check The Website for a Menu    $$ - $$$  \n",
       "1               Check The Website for a Menu    $$ - $$$  \n",
       "2  http://tabletalkdiner.com/menu/breakfast/    $$ - $$$  \n",
       "3      https://sixtyvines.com/menu/plano-tx/    $$ - $$$  \n",
       "4               Check The Website for a Menu    $$ - $$$  "
      ]
     },
     "execution_count": 3,
     "metadata": {},
     "output_type": "execute_result"
    }
   ],
   "source": [
    "df.head()"
   ]
  },
  {
   "cell_type": "code",
   "execution_count": 4,
   "id": "9565e164",
   "metadata": {},
   "outputs": [],
   "source": [
    "df2 = df[['Name', 'Location', 'Type', 'Reviews', 'Price_Range']]"
   ]
  },
  {
   "cell_type": "code",
   "execution_count": 5,
   "id": "996ea62e",
   "metadata": {},
   "outputs": [
    {
     "data": {
      "text/plain": [
       "Name            0\n",
       "Location        0\n",
       "Type           13\n",
       "Reviews         0\n",
       "Price_Range     0\n",
       "dtype: int64"
      ]
     },
     "execution_count": 5,
     "metadata": {},
     "output_type": "execute_result"
    }
   ],
   "source": [
    "df2.isna().sum()"
   ]
  },
  {
   "cell_type": "code",
   "execution_count": 6,
   "id": "e37e8944",
   "metadata": {},
   "outputs": [],
   "source": [
    "df2 = df2.dropna()"
   ]
  },
  {
   "cell_type": "code",
   "execution_count": 7,
   "id": "ee92a276",
   "metadata": {},
   "outputs": [
    {
     "data": {
      "text/plain": [
       "$$ - $$$    2383\n",
       "$$$$         384\n",
       "$            281\n",
       "American       1\n",
       "Name: Price_Range, dtype: int64"
      ]
     },
     "execution_count": 7,
     "metadata": {},
     "output_type": "execute_result"
    }
   ],
   "source": [
    "df2.Price_Range.value_counts()"
   ]
  },
  {
   "cell_type": "code",
   "execution_count": 8,
   "id": "cbd1ad93",
   "metadata": {},
   "outputs": [],
   "source": [
    "df2.drop(df2[df2.Price_Range == 'American'].index , inplace=True)"
   ]
  },
  {
   "cell_type": "code",
   "execution_count": 9,
   "id": "222d297f",
   "metadata": {},
   "outputs": [],
   "source": [
    "df2.Reviews = df2.Reviews.apply(lambda x: float(x.split(' ')[0]))\n",
    "df2.Location = df2.Location.apply(lambda x: x.split(',')[-1].split(' ')[1])\n",
    "df2.Price_Range = df2.Price_Range.apply(lambda x: 'orta' if x == '$$ - $$$' else ('pahalı' if x == '$$$$' else 'ucuz'))"
   ]
  },
  {
   "cell_type": "code",
   "execution_count": 10,
   "id": "940773cd",
   "metadata": {},
   "outputs": [
    {
     "data": {
      "text/html": [
       "<div>\n",
       "<style scoped>\n",
       "    .dataframe tbody tr th:only-of-type {\n",
       "        vertical-align: middle;\n",
       "    }\n",
       "\n",
       "    .dataframe tbody tr th {\n",
       "        vertical-align: top;\n",
       "    }\n",
       "\n",
       "    .dataframe thead th {\n",
       "        text-align: right;\n",
       "    }\n",
       "</style>\n",
       "<table border=\"1\" class=\"dataframe\">\n",
       "  <thead>\n",
       "    <tr style=\"text-align: right;\">\n",
       "      <th></th>\n",
       "      <th>Name</th>\n",
       "      <th>Location</th>\n",
       "      <th>Type</th>\n",
       "      <th>Reviews</th>\n",
       "      <th>Price_Range</th>\n",
       "    </tr>\n",
       "  </thead>\n",
       "  <tbody>\n",
       "    <tr>\n",
       "      <th>0</th>\n",
       "      <td>Betty Lou's Seafood and Grill</td>\n",
       "      <td>CA</td>\n",
       "      <td>Seafood, Vegetarian Friendly, Vegan Options</td>\n",
       "      <td>4.5</td>\n",
       "      <td>orta</td>\n",
       "    </tr>\n",
       "    <tr>\n",
       "      <th>1</th>\n",
       "      <td>Coach House Diner</td>\n",
       "      <td>NJ</td>\n",
       "      <td>Diner, American, Vegetarian Friendly</td>\n",
       "      <td>4.0</td>\n",
       "      <td>orta</td>\n",
       "    </tr>\n",
       "    <tr>\n",
       "      <th>2</th>\n",
       "      <td>Table Talk Diner</td>\n",
       "      <td>NY</td>\n",
       "      <td>American, Diner, Vegetarian Friendly</td>\n",
       "      <td>4.0</td>\n",
       "      <td>orta</td>\n",
       "    </tr>\n",
       "    <tr>\n",
       "      <th>3</th>\n",
       "      <td>Sixty Vines</td>\n",
       "      <td>TX</td>\n",
       "      <td>American, Wine Bar, Vegetarian Friendly</td>\n",
       "      <td>4.5</td>\n",
       "      <td>orta</td>\n",
       "    </tr>\n",
       "    <tr>\n",
       "      <th>4</th>\n",
       "      <td>The Clam Bar</td>\n",
       "      <td>NY</td>\n",
       "      <td>American, Bar, Seafood</td>\n",
       "      <td>4.0</td>\n",
       "      <td>orta</td>\n",
       "    </tr>\n",
       "  </tbody>\n",
       "</table>\n",
       "</div>"
      ],
      "text/plain": [
       "                            Name Location  \\\n",
       "0  Betty Lou's Seafood and Grill       CA   \n",
       "1              Coach House Diner       NJ   \n",
       "2               Table Talk Diner       NY   \n",
       "3                    Sixty Vines       TX   \n",
       "4                   The Clam Bar       NY   \n",
       "\n",
       "                                           Type  Reviews Price_Range  \n",
       "0   Seafood, Vegetarian Friendly, Vegan Options      4.5        orta  \n",
       "1          Diner, American, Vegetarian Friendly      4.0        orta  \n",
       "2          American, Diner, Vegetarian Friendly      4.0        orta  \n",
       "3       American, Wine Bar, Vegetarian Friendly      4.5        orta  \n",
       "4                        American, Bar, Seafood      4.0        orta  "
      ]
     },
     "execution_count": 10,
     "metadata": {},
     "output_type": "execute_result"
    }
   ],
   "source": [
    "df2.head()"
   ]
  },
  {
   "cell_type": "code",
   "execution_count": 11,
   "id": "038814a3",
   "metadata": {},
   "outputs": [
    {
     "data": {
      "text/plain": [
       "NY    649\n",
       "TX    612\n",
       "CA    608\n",
       "WA    606\n",
       "NJ    561\n",
       "PA      9\n",
       "OR      2\n",
       "        1\n",
       "Name: Location, dtype: int64"
      ]
     },
     "execution_count": 11,
     "metadata": {},
     "output_type": "execute_result"
    }
   ],
   "source": [
    "df2.Location.value_counts()"
   ]
  },
  {
   "cell_type": "code",
   "execution_count": 12,
   "id": "4722b22a",
   "metadata": {},
   "outputs": [],
   "source": [
    "df2.drop(df2[df2.Location == ''].index , inplace=True)"
   ]
  },
  {
   "cell_type": "code",
   "execution_count": 13,
   "id": "ef3f0770",
   "metadata": {},
   "outputs": [
    {
     "data": {
      "text/html": [
       "<div>\n",
       "<style scoped>\n",
       "    .dataframe tbody tr th:only-of-type {\n",
       "        vertical-align: middle;\n",
       "    }\n",
       "\n",
       "    .dataframe tbody tr th {\n",
       "        vertical-align: top;\n",
       "    }\n",
       "\n",
       "    .dataframe thead th {\n",
       "        text-align: right;\n",
       "    }\n",
       "</style>\n",
       "<table border=\"1\" class=\"dataframe\">\n",
       "  <thead>\n",
       "    <tr style=\"text-align: right;\">\n",
       "      <th></th>\n",
       "      <th>Name</th>\n",
       "      <th>Location</th>\n",
       "      <th>Type</th>\n",
       "      <th>Reviews</th>\n",
       "      <th>Price_Range</th>\n",
       "    </tr>\n",
       "  </thead>\n",
       "  <tbody>\n",
       "    <tr>\n",
       "      <th>0</th>\n",
       "      <td>Betty Lou's Seafood and Grill</td>\n",
       "      <td>CA</td>\n",
       "      <td>Seafood, Vegetarian Friendly, Vegan Options</td>\n",
       "      <td>4.5</td>\n",
       "      <td>orta</td>\n",
       "    </tr>\n",
       "    <tr>\n",
       "      <th>1</th>\n",
       "      <td>Coach House Diner</td>\n",
       "      <td>NJ</td>\n",
       "      <td>Diner, American, Vegetarian Friendly</td>\n",
       "      <td>4.0</td>\n",
       "      <td>orta</td>\n",
       "    </tr>\n",
       "    <tr>\n",
       "      <th>2</th>\n",
       "      <td>Table Talk Diner</td>\n",
       "      <td>NY</td>\n",
       "      <td>American, Diner, Vegetarian Friendly</td>\n",
       "      <td>4.0</td>\n",
       "      <td>orta</td>\n",
       "    </tr>\n",
       "    <tr>\n",
       "      <th>3</th>\n",
       "      <td>Sixty Vines</td>\n",
       "      <td>TX</td>\n",
       "      <td>American, Wine Bar, Vegetarian Friendly</td>\n",
       "      <td>4.5</td>\n",
       "      <td>orta</td>\n",
       "    </tr>\n",
       "    <tr>\n",
       "      <th>4</th>\n",
       "      <td>The Clam Bar</td>\n",
       "      <td>NY</td>\n",
       "      <td>American, Bar, Seafood</td>\n",
       "      <td>4.0</td>\n",
       "      <td>orta</td>\n",
       "    </tr>\n",
       "    <tr>\n",
       "      <th>...</th>\n",
       "      <td>...</td>\n",
       "      <td>...</td>\n",
       "      <td>...</td>\n",
       "      <td>...</td>\n",
       "      <td>...</td>\n",
       "    </tr>\n",
       "    <tr>\n",
       "      <th>3057</th>\n",
       "      <td>Indigo Kitchen &amp; Ale House</td>\n",
       "      <td>WA</td>\n",
       "      <td>American, Bar, Vegetarian Friendly</td>\n",
       "      <td>4.5</td>\n",
       "      <td>orta</td>\n",
       "    </tr>\n",
       "    <tr>\n",
       "      <th>3058</th>\n",
       "      <td>City Vineyard</td>\n",
       "      <td>NY</td>\n",
       "      <td>American, Bar, Seafood</td>\n",
       "      <td>4.5</td>\n",
       "      <td>orta</td>\n",
       "    </tr>\n",
       "    <tr>\n",
       "      <th>3059</th>\n",
       "      <td>BRIO Tuscan Grille</td>\n",
       "      <td>NJ</td>\n",
       "      <td>Steakhouse, Italian, Bar</td>\n",
       "      <td>4.0</td>\n",
       "      <td>orta</td>\n",
       "    </tr>\n",
       "    <tr>\n",
       "      <th>3060</th>\n",
       "      <td>Maywood Pancake house</td>\n",
       "      <td>NJ</td>\n",
       "      <td>American, Vegan Options, Gluten Free Options</td>\n",
       "      <td>4.0</td>\n",
       "      <td>orta</td>\n",
       "    </tr>\n",
       "    <tr>\n",
       "      <th>3061</th>\n",
       "      <td>Porto Leggero</td>\n",
       "      <td>NJ</td>\n",
       "      <td>Italian, Vegetarian Friendly, Vegan Options</td>\n",
       "      <td>4.5</td>\n",
       "      <td>pahalı</td>\n",
       "    </tr>\n",
       "  </tbody>\n",
       "</table>\n",
       "<p>3047 rows × 5 columns</p>\n",
       "</div>"
      ],
      "text/plain": [
       "                               Name Location  \\\n",
       "0     Betty Lou's Seafood and Grill       CA   \n",
       "1                 Coach House Diner       NJ   \n",
       "2                  Table Talk Diner       NY   \n",
       "3                       Sixty Vines       TX   \n",
       "4                      The Clam Bar       NY   \n",
       "...                             ...      ...   \n",
       "3057     Indigo Kitchen & Ale House       WA   \n",
       "3058                  City Vineyard       NY   \n",
       "3059             BRIO Tuscan Grille       NJ   \n",
       "3060          Maywood Pancake house       NJ   \n",
       "3061                  Porto Leggero       NJ   \n",
       "\n",
       "                                               Type  Reviews Price_Range  \n",
       "0       Seafood, Vegetarian Friendly, Vegan Options      4.5        orta  \n",
       "1              Diner, American, Vegetarian Friendly      4.0        orta  \n",
       "2              American, Diner, Vegetarian Friendly      4.0        orta  \n",
       "3           American, Wine Bar, Vegetarian Friendly      4.5        orta  \n",
       "4                            American, Bar, Seafood      4.0        orta  \n",
       "...                                             ...      ...         ...  \n",
       "3057             American, Bar, Vegetarian Friendly      4.5        orta  \n",
       "3058                         American, Bar, Seafood      4.5        orta  \n",
       "3059                       Steakhouse, Italian, Bar      4.0        orta  \n",
       "3060   American, Vegan Options, Gluten Free Options      4.0        orta  \n",
       "3061    Italian, Vegetarian Friendly, Vegan Options      4.5      pahalı  \n",
       "\n",
       "[3047 rows x 5 columns]"
      ]
     },
     "execution_count": 13,
     "metadata": {},
     "output_type": "execute_result"
    }
   ],
   "source": [
    "df2"
   ]
  },
  {
   "cell_type": "code",
   "execution_count": 14,
   "id": "42cd2827",
   "metadata": {},
   "outputs": [],
   "source": [
    "types = [i.strip() for i in np.unique(sum([i.split(',') for i in df2.Type.to_numpy()], [])).tolist()]"
   ]
  },
  {
   "cell_type": "code",
   "execution_count": 15,
   "id": "856d0499",
   "metadata": {},
   "outputs": [],
   "source": [
    "from sklearn.feature_extraction.text import TfidfVectorizer\n",
    "tf = TfidfVectorizer(lowercase=False)\n",
    "tf = tf.fit(types)"
   ]
  },
  {
   "cell_type": "code",
   "execution_count": 16,
   "id": "498a785a",
   "metadata": {},
   "outputs": [],
   "source": [
    "choice_loc = 'CA'\n",
    "choice_price = 'pahalı'\n",
    "choice_types = ['Italian, Bar, Steakhouse, Diner, Wine Bar']\n",
    "vec1 = tf.transform(choice_types)"
   ]
  },
  {
   "cell_type": "code",
   "execution_count": 17,
   "id": "45524fef",
   "metadata": {},
   "outputs": [],
   "source": [
    "new_df = df2[df2.Location == choice_loc]\n",
    "new_df = new_df[new_df.Price_Range == choice_price]"
   ]
  },
  {
   "cell_type": "code",
   "execution_count": 18,
   "id": "a65fffda",
   "metadata": {},
   "outputs": [],
   "source": [
    "from sklearn.metrics.pairwise import cosine_similarity\n",
    "cos_sim = []\n",
    "for i in new_df.Type:\n",
    "    vec2 = tf.transform([i])\n",
    "    cos = cosine_similarity(vec1, vec2)\n",
    "    cos_sim.append(cos[0][0])"
   ]
  },
  {
   "cell_type": "code",
   "execution_count": 19,
   "id": "eaadcdc1",
   "metadata": {},
   "outputs": [],
   "source": [
    "d = {'Name': new_df.Name, 'Cosine': cos_sim, 'Reviews': new_df.Reviews}\n",
    "sim_df = pd.DataFrame(data=d)"
   ]
  },
  {
   "cell_type": "code",
   "execution_count": 20,
   "id": "ae205e9e",
   "metadata": {},
   "outputs": [
    {
     "data": {
      "text/html": [
       "<div>\n",
       "<style scoped>\n",
       "    .dataframe tbody tr th:only-of-type {\n",
       "        vertical-align: middle;\n",
       "    }\n",
       "\n",
       "    .dataframe tbody tr th {\n",
       "        vertical-align: top;\n",
       "    }\n",
       "\n",
       "    .dataframe thead th {\n",
       "        text-align: right;\n",
       "    }\n",
       "</style>\n",
       "<table border=\"1\" class=\"dataframe\">\n",
       "  <thead>\n",
       "    <tr style=\"text-align: right;\">\n",
       "      <th></th>\n",
       "      <th>Name</th>\n",
       "      <th>Cosine</th>\n",
       "      <th>Reviews</th>\n",
       "    </tr>\n",
       "  </thead>\n",
       "  <tbody>\n",
       "    <tr>\n",
       "      <th>699</th>\n",
       "      <td>L'Opera Ristorante</td>\n",
       "      <td>0.678596</td>\n",
       "      <td>4.5</td>\n",
       "    </tr>\n",
       "    <tr>\n",
       "      <th>1686</th>\n",
       "      <td>54 Degrees at Duane's</td>\n",
       "      <td>0.393354</td>\n",
       "      <td>4.5</td>\n",
       "    </tr>\n",
       "    <tr>\n",
       "      <th>908</th>\n",
       "      <td>Prime Table Steakhouse</td>\n",
       "      <td>0.284386</td>\n",
       "      <td>4.5</td>\n",
       "    </tr>\n",
       "    <tr>\n",
       "      <th>1838</th>\n",
       "      <td>LB Steak</td>\n",
       "      <td>0.284386</td>\n",
       "      <td>4.0</td>\n",
       "    </tr>\n",
       "    <tr>\n",
       "      <th>2122</th>\n",
       "      <td>Morton's The Steakhouse</td>\n",
       "      <td>0.284386</td>\n",
       "      <td>4.0</td>\n",
       "    </tr>\n",
       "  </tbody>\n",
       "</table>\n",
       "</div>"
      ],
      "text/plain": [
       "                         Name    Cosine  Reviews\n",
       "699        L'Opera Ristorante  0.678596      4.5\n",
       "1686    54 Degrees at Duane's  0.393354      4.5\n",
       "908    Prime Table Steakhouse  0.284386      4.5\n",
       "1838                 LB Steak  0.284386      4.0\n",
       "2122  Morton's The Steakhouse  0.284386      4.0"
      ]
     },
     "execution_count": 20,
     "metadata": {},
     "output_type": "execute_result"
    }
   ],
   "source": [
    "sim_df.nlargest(5, ['Cosine']).sort_values(by='Reviews', ascending=False)"
   ]
  },
  {
   "cell_type": "code",
   "execution_count": null,
   "id": "09a07d3a",
   "metadata": {},
   "outputs": [],
   "source": []
  }
 ],
 "metadata": {
  "kernelspec": {
   "display_name": "Python 3 (ipykernel)",
   "language": "python",
   "name": "python3"
  },
  "language_info": {
   "codemirror_mode": {
    "name": "ipython",
    "version": 3
   },
   "file_extension": ".py",
   "mimetype": "text/x-python",
   "name": "python",
   "nbconvert_exporter": "python",
   "pygments_lexer": "ipython3",
   "version": "3.9.7"
  }
 },
 "nbformat": 4,
 "nbformat_minor": 5
}
