{
 "cells": [
  {
   "cell_type": "code",
   "execution_count": 117,
   "id": "02a22571",
   "metadata": {},
   "outputs": [],
   "source": [
    "# kütüphanelerin tanımlanması\n",
    "import pandas as pd\n",
    "import numpy as np"
   ]
  },
  {
   "cell_type": "code",
   "execution_count": 118,
   "id": "a41dc35d",
   "metadata": {},
   "outputs": [],
   "source": [
    "#Veri setinin okunması\n",
    "df = pd.read_csv('TripAdvisor_RestauarantRecommendation.csv')"
   ]
  },
  {
   "cell_type": "code",
   "execution_count": 119,
   "id": "8ca71735",
   "metadata": {},
   "outputs": [
    {
     "data": {
      "text/html": [
       "<div>\n",
       "<style scoped>\n",
       "    .dataframe tbody tr th:only-of-type {\n",
       "        vertical-align: middle;\n",
       "    }\n",
       "\n",
       "    .dataframe tbody tr th {\n",
       "        vertical-align: top;\n",
       "    }\n",
       "\n",
       "    .dataframe thead th {\n",
       "        text-align: right;\n",
       "    }\n",
       "</style>\n",
       "<table border=\"1\" class=\"dataframe\">\n",
       "  <thead>\n",
       "    <tr style=\"text-align: right;\">\n",
       "      <th></th>\n",
       "      <th>Name</th>\n",
       "      <th>Street Address</th>\n",
       "      <th>Location</th>\n",
       "      <th>Type</th>\n",
       "      <th>Reviews</th>\n",
       "      <th>No of Reviews</th>\n",
       "      <th>Comments</th>\n",
       "      <th>Contact Number</th>\n",
       "      <th>Trip_advisor Url</th>\n",
       "      <th>Menu</th>\n",
       "      <th>Price_Range</th>\n",
       "    </tr>\n",
       "  </thead>\n",
       "  <tbody>\n",
       "    <tr>\n",
       "      <th>0</th>\n",
       "      <td>Betty Lou's Seafood and Grill</td>\n",
       "      <td>318 Columbus Ave</td>\n",
       "      <td>San Francisco, CA 94133-3908</td>\n",
       "      <td>Seafood, Vegetarian Friendly, Vegan Options</td>\n",
       "      <td>4.5 of 5 bubbles</td>\n",
       "      <td>243 reviews</td>\n",
       "      <td>NaN</td>\n",
       "      <td>+1 415-757-0569</td>\n",
       "      <td>https://www.tripadvisor.com//Restaurant_Review...</td>\n",
       "      <td>Check The Website for a Menu</td>\n",
       "      <td>$$ - $$$</td>\n",
       "    </tr>\n",
       "    <tr>\n",
       "      <th>1</th>\n",
       "      <td>Coach House Diner</td>\n",
       "      <td>55 State Rt 4</td>\n",
       "      <td>Hackensack, NJ 07601-6337</td>\n",
       "      <td>Diner, American, Vegetarian Friendly</td>\n",
       "      <td>4 of 5 bubbles</td>\n",
       "      <td>84 reviews</td>\n",
       "      <td>Both times we were there very late, after 11 P...</td>\n",
       "      <td>+1 201-488-4999</td>\n",
       "      <td>https://www.tripadvisor.com//Restaurant_Review...</td>\n",
       "      <td>Check The Website for a Menu</td>\n",
       "      <td>$$ - $$$</td>\n",
       "    </tr>\n",
       "    <tr>\n",
       "      <th>2</th>\n",
       "      <td>Table Talk Diner</td>\n",
       "      <td>2521 South Rd Ste C</td>\n",
       "      <td>Poughkeepsie, NY 12601-5476</td>\n",
       "      <td>American, Diner, Vegetarian Friendly</td>\n",
       "      <td>4 of 5 bubbles</td>\n",
       "      <td>256 reviews</td>\n",
       "      <td>Waitress was very friendly but a little pricey...</td>\n",
       "      <td>+1 845-849-2839</td>\n",
       "      <td>https://www.tripadvisor.com//Restaurant_Review...</td>\n",
       "      <td>http://tabletalkdiner.com/menu/breakfast/</td>\n",
       "      <td>$$ - $$$</td>\n",
       "    </tr>\n",
       "    <tr>\n",
       "      <th>3</th>\n",
       "      <td>Sixty Vines</td>\n",
       "      <td>3701 Dallas Pkwy</td>\n",
       "      <td>Plano, TX 75093-7777</td>\n",
       "      <td>American, Wine Bar, Vegetarian Friendly</td>\n",
       "      <td>4.5 of 5 bubbles</td>\n",
       "      <td>235 reviews</td>\n",
       "      <td>Not sure why I went there for the second time....</td>\n",
       "      <td>+1 469-620-8463</td>\n",
       "      <td>https://www.tripadvisor.com//Restaurant_Review...</td>\n",
       "      <td>https://sixtyvines.com/menu/plano-tx/</td>\n",
       "      <td>$$ - $$$</td>\n",
       "    </tr>\n",
       "    <tr>\n",
       "      <th>4</th>\n",
       "      <td>The Clam Bar</td>\n",
       "      <td>3914 Brewerton Rd</td>\n",
       "      <td>Syracuse, NY 13212</td>\n",
       "      <td>American, Bar, Seafood</td>\n",
       "      <td>4 of 5 bubbles</td>\n",
       "      <td>285 reviews</td>\n",
       "      <td>Doesn't look like much from the outside but wa...</td>\n",
       "      <td>+1 315-458-1662</td>\n",
       "      <td>https://www.tripadvisor.com//Restaurant_Review...</td>\n",
       "      <td>Check The Website for a Menu</td>\n",
       "      <td>$$ - $$$</td>\n",
       "    </tr>\n",
       "  </tbody>\n",
       "</table>\n",
       "</div>"
      ],
      "text/plain": [
       "                            Name       Street Address  \\\n",
       "0  Betty Lou's Seafood and Grill     318 Columbus Ave   \n",
       "1              Coach House Diner        55 State Rt 4   \n",
       "2               Table Talk Diner  2521 South Rd Ste C   \n",
       "3                    Sixty Vines     3701 Dallas Pkwy   \n",
       "4                   The Clam Bar    3914 Brewerton Rd   \n",
       "\n",
       "                       Location                                          Type  \\\n",
       "0  San Francisco, CA 94133-3908   Seafood, Vegetarian Friendly, Vegan Options   \n",
       "1     Hackensack, NJ 07601-6337          Diner, American, Vegetarian Friendly   \n",
       "2   Poughkeepsie, NY 12601-5476          American, Diner, Vegetarian Friendly   \n",
       "3          Plano, TX 75093-7777       American, Wine Bar, Vegetarian Friendly   \n",
       "4            Syracuse, NY 13212                        American, Bar, Seafood   \n",
       "\n",
       "            Reviews No of Reviews  \\\n",
       "0  4.5 of 5 bubbles   243 reviews   \n",
       "1    4 of 5 bubbles    84 reviews   \n",
       "2    4 of 5 bubbles   256 reviews   \n",
       "3  4.5 of 5 bubbles   235 reviews   \n",
       "4    4 of 5 bubbles   285 reviews   \n",
       "\n",
       "                                            Comments   Contact Number  \\\n",
       "0                                                NaN  +1 415-757-0569   \n",
       "1  Both times we were there very late, after 11 P...  +1 201-488-4999   \n",
       "2  Waitress was very friendly but a little pricey...  +1 845-849-2839   \n",
       "3  Not sure why I went there for the second time....  +1 469-620-8463   \n",
       "4  Doesn't look like much from the outside but wa...  +1 315-458-1662   \n",
       "\n",
       "                                    Trip_advisor Url  \\\n",
       "0  https://www.tripadvisor.com//Restaurant_Review...   \n",
       "1  https://www.tripadvisor.com//Restaurant_Review...   \n",
       "2  https://www.tripadvisor.com//Restaurant_Review...   \n",
       "3  https://www.tripadvisor.com//Restaurant_Review...   \n",
       "4  https://www.tripadvisor.com//Restaurant_Review...   \n",
       "\n",
       "                                        Menu Price_Range  \n",
       "0               Check The Website for a Menu    $$ - $$$  \n",
       "1               Check The Website for a Menu    $$ - $$$  \n",
       "2  http://tabletalkdiner.com/menu/breakfast/    $$ - $$$  \n",
       "3      https://sixtyvines.com/menu/plano-tx/    $$ - $$$  \n",
       "4               Check The Website for a Menu    $$ - $$$  "
      ]
     },
     "execution_count": 119,
     "metadata": {},
     "output_type": "execute_result"
    }
   ],
   "source": [
    "#veri setinin ilk 5 satırı \n",
    "df.head()"
   ]
  },
  {
   "cell_type": "code",
   "execution_count": 120,
   "id": "9565e164",
   "metadata": {},
   "outputs": [],
   "source": [
    "#Gerekli özellikleri yeni dataframe olarak oluşturuyoruz.\n",
    "df2 = df[['Name', 'Location', 'Type', 'Reviews', 'Price_Range']]"
   ]
  },
  {
   "cell_type": "code",
   "execution_count": 121,
   "id": "996ea62e",
   "metadata": {},
   "outputs": [
    {
     "data": {
      "text/plain": [
       "Name            0\n",
       "Location        0\n",
       "Type           13\n",
       "Reviews         0\n",
       "Price_Range     0\n",
       "dtype: int64"
      ]
     },
     "execution_count": 121,
     "metadata": {},
     "output_type": "execute_result"
    }
   ],
   "source": [
    "#Boş veri var mı diye kontrol edip ekrana yazdırıyoruz.\n",
    "df2.isna().sum()"
   ]
  },
  {
   "cell_type": "code",
   "execution_count": 122,
   "id": "e37e8944",
   "metadata": {},
   "outputs": [],
   "source": [
    "#Boş verilerimizi siliyoruz.\n",
    "df2 = df2.dropna()"
   ]
  },
  {
   "cell_type": "code",
   "execution_count": 123,
   "id": "ee92a276",
   "metadata": {},
   "outputs": [
    {
     "data": {
      "text/plain": [
       "$$ - $$$    2383\n",
       "$$$$         384\n",
       "$            281\n",
       "American       1\n",
       "Name: Price_Range, dtype: int64"
      ]
     },
     "execution_count": 123,
     "metadata": {},
     "output_type": "execute_result"
    }
   ],
   "source": [
    "#Restorantların pahalı ucuz orta seçeneklerini gösteriyoruz.\n",
    "df2.Price_Range.value_counts()"
   ]
  },
  {
   "cell_type": "code",
   "execution_count": 124,
   "id": "cbd1ad93",
   "metadata": {},
   "outputs": [],
   "source": [
    "#american satırını siliyoruz.\n",
    "df2.drop(df2[df2.Price_Range == 'American'].index , inplace=True)"
   ]
  },
  {
   "cell_type": "code",
   "execution_count": 125,
   "id": "222d297f",
   "metadata": {},
   "outputs": [],
   "source": [
    "# yorumlar yerinden sadece puanı alıyoruz. \n",
    "df2.Reviews = df2.Reviews.apply(lambda x: float(x.split(' ')[0]))\n",
    "# Loaksyon için sadece virgülden sonraki kısımda şehri alıyoruz.\n",
    "df2.Location = df2.Location.apply(lambda x: x.split(',')[-1].split(' ')[1])\n",
    "# Dolar işaretlerine göre pahalı ucuz orta seçeneklerini veriyoruz\n",
    "df2.Price_Range = df2.Price_Range.apply(lambda x: 'orta' if x == '$$ - $$$' else ('pahalı' if x == '$$$$' else 'ucuz'))"
   ]
  },
  {
   "cell_type": "code",
   "execution_count": 126,
   "id": "940773cd",
   "metadata": {
    "scrolled": false
   },
   "outputs": [
    {
     "data": {
      "text/html": [
       "<div>\n",
       "<style scoped>\n",
       "    .dataframe tbody tr th:only-of-type {\n",
       "        vertical-align: middle;\n",
       "    }\n",
       "\n",
       "    .dataframe tbody tr th {\n",
       "        vertical-align: top;\n",
       "    }\n",
       "\n",
       "    .dataframe thead th {\n",
       "        text-align: right;\n",
       "    }\n",
       "</style>\n",
       "<table border=\"1\" class=\"dataframe\">\n",
       "  <thead>\n",
       "    <tr style=\"text-align: right;\">\n",
       "      <th></th>\n",
       "      <th>Name</th>\n",
       "      <th>Location</th>\n",
       "      <th>Type</th>\n",
       "      <th>Reviews</th>\n",
       "      <th>Price_Range</th>\n",
       "    </tr>\n",
       "  </thead>\n",
       "  <tbody>\n",
       "    <tr>\n",
       "      <th>0</th>\n",
       "      <td>Betty Lou's Seafood and Grill</td>\n",
       "      <td>CA</td>\n",
       "      <td>Seafood, Vegetarian Friendly, Vegan Options</td>\n",
       "      <td>4.5</td>\n",
       "      <td>orta</td>\n",
       "    </tr>\n",
       "    <tr>\n",
       "      <th>1</th>\n",
       "      <td>Coach House Diner</td>\n",
       "      <td>NJ</td>\n",
       "      <td>Diner, American, Vegetarian Friendly</td>\n",
       "      <td>4.0</td>\n",
       "      <td>orta</td>\n",
       "    </tr>\n",
       "    <tr>\n",
       "      <th>2</th>\n",
       "      <td>Table Talk Diner</td>\n",
       "      <td>NY</td>\n",
       "      <td>American, Diner, Vegetarian Friendly</td>\n",
       "      <td>4.0</td>\n",
       "      <td>orta</td>\n",
       "    </tr>\n",
       "    <tr>\n",
       "      <th>3</th>\n",
       "      <td>Sixty Vines</td>\n",
       "      <td>TX</td>\n",
       "      <td>American, Wine Bar, Vegetarian Friendly</td>\n",
       "      <td>4.5</td>\n",
       "      <td>orta</td>\n",
       "    </tr>\n",
       "    <tr>\n",
       "      <th>4</th>\n",
       "      <td>The Clam Bar</td>\n",
       "      <td>NY</td>\n",
       "      <td>American, Bar, Seafood</td>\n",
       "      <td>4.0</td>\n",
       "      <td>orta</td>\n",
       "    </tr>\n",
       "  </tbody>\n",
       "</table>\n",
       "</div>"
      ],
      "text/plain": [
       "                            Name Location  \\\n",
       "0  Betty Lou's Seafood and Grill       CA   \n",
       "1              Coach House Diner       NJ   \n",
       "2               Table Talk Diner       NY   \n",
       "3                    Sixty Vines       TX   \n",
       "4                   The Clam Bar       NY   \n",
       "\n",
       "                                           Type  Reviews Price_Range  \n",
       "0   Seafood, Vegetarian Friendly, Vegan Options      4.5        orta  \n",
       "1          Diner, American, Vegetarian Friendly      4.0        orta  \n",
       "2          American, Diner, Vegetarian Friendly      4.0        orta  \n",
       "3       American, Wine Bar, Vegetarian Friendly      4.5        orta  \n",
       "4                        American, Bar, Seafood      4.0        orta  "
      ]
     },
     "execution_count": 126,
     "metadata": {},
     "output_type": "execute_result"
    }
   ],
   "source": [
    "#veri setimizi hazır hale getirdik.\n",
    "df2.head()"
   ]
  },
  {
   "cell_type": "code",
   "execution_count": 127,
   "id": "fda65218",
   "metadata": {
    "scrolled": true
   },
   "outputs": [
    {
     "data": {
      "text/plain": [
       "4.5 of 5 bubbles    1956\n",
       "4 of 5 bubbles      1004\n",
       "5 of 5 bubbles        59\n",
       "3.5 of 5 bubbles      40\n",
       "No review              2\n",
       "3 of 5 bubbles         1\n",
       "Name: Reviews, dtype: int64"
      ]
     },
     "execution_count": 127,
     "metadata": {},
     "output_type": "execute_result"
    }
   ],
   "source": [
    "df.Reviews.value_counts() "
   ]
  },
  {
   "cell_type": "code",
   "execution_count": 128,
   "id": "dbb5cc9e",
   "metadata": {},
   "outputs": [],
   "source": [
    "import random"
   ]
  },
  {
   "cell_type": "code",
   "execution_count": 153,
   "id": "5b2e0886",
   "metadata": {},
   "outputs": [],
   "source": [
    "restaurants_name = [df2.iloc[random.randint(0,df2.shape[0])]['Name'] for i in range(5)]"
   ]
  },
  {
   "cell_type": "code",
   "execution_count": 154,
   "id": "19a7af92",
   "metadata": {},
   "outputs": [
    {
     "data": {
      "text/plain": [
       "['Black Angus Steakhouse - Spokane',\n",
       " 'Fresco Mexican Grill',\n",
       " 'Nickel Diner',\n",
       " 'Sweet Basil',\n",
       " 'Diana of Little Chef, Little Kitchen']"
      ]
     },
     "execution_count": 154,
     "metadata": {},
     "output_type": "execute_result"
    }
   ],
   "source": [
    "restaurants_name"
   ]
  },
  {
   "cell_type": "code",
   "execution_count": 155,
   "id": "64849aea",
   "metadata": {},
   "outputs": [
    {
     "name": "stdout",
     "output_type": "stream",
     "text": [
      "                                  Name Location  \\\n",
      "2919  Black Angus Steakhouse - Spokane       WA   \n",
      "\n",
      "                                            Type  Reviews Price_Range  \n",
      "2919   American, Steakhouse, Gluten Free Options      4.0        orta  \n",
      "Restorantlara puan veriniz(5.0 - 3.0) : 5\n",
      "5.0\n",
      "                                  Name Location  \\\n",
      "2919  Black Angus Steakhouse - Spokane       WA   \n",
      "\n",
      "                                            Type  Reviews Price_Range  \n",
      "2919   American, Steakhouse, Gluten Free Options      5.0        orta  \n",
      "*********************************************************************************************************\n",
      "                      Name Location                          Type  Reviews  \\\n",
      "1018  Fresco Mexican Grill       CA   Quick Bites, Mexican, Latin      4.5   \n",
      "\n",
      "     Price_Range  \n",
      "1018        ucuz  \n",
      "Restorantlara puan veriniz(5.0 - 3.0) : 5\n",
      "5.0\n",
      "                      Name Location                          Type  Reviews  \\\n",
      "1018  Fresco Mexican Grill       CA   Quick Bites, Mexican, Latin      5.0   \n",
      "\n",
      "     Price_Range  \n",
      "1018        ucuz  \n",
      "*********************************************************************************************************\n",
      "              Name Location                                   Type  Reviews  \\\n",
      "2906  Nickel Diner       CA   American, Diner, Vegetarian Friendly      4.5   \n",
      "\n",
      "     Price_Range  \n",
      "2906        orta  \n",
      "Restorantlara puan veriniz(5.0 - 3.0) : 5\n",
      "5.0\n",
      "              Name Location                                   Type  Reviews  \\\n",
      "2906  Nickel Diner       CA   American, Diner, Vegetarian Friendly      5.0   \n",
      "\n",
      "     Price_Range  \n",
      "2906        orta  \n",
      "*********************************************************************************************************\n",
      "             Name Location                               Type  Reviews  \\\n",
      "1072  Sweet Basil       NY   Asian, Thai, Vegetarian Friendly      4.5   \n",
      "\n",
      "     Price_Range  \n",
      "1072        orta  \n",
      "Restorantlara puan veriniz(5.0 - 3.0) : 5\n",
      "5.0\n",
      "             Name Location                               Type  Reviews  \\\n",
      "1072  Sweet Basil       NY   Asian, Thai, Vegetarian Friendly      5.0   \n",
      "\n",
      "     Price_Range  \n",
      "1072        orta  \n",
      "*********************************************************************************************************\n",
      "                                      Name Location  \\\n",
      "1818  Diana of Little Chef, Little Kitchen       NY   \n",
      "\n",
      "                                            Type  Reviews Price_Range  \n",
      "1818   Dine With a Local Chef, Italian, American      5.0        orta  \n",
      "Restorantlara puan veriniz(5.0 - 3.0) : 5\n",
      "5.0\n",
      "                                      Name Location  \\\n",
      "1818  Diana of Little Chef, Little Kitchen       NY   \n",
      "\n",
      "                                            Type  Reviews Price_Range  \n",
      "1818   Dine With a Local Chef, Italian, American      5.0        orta  \n",
      "*********************************************************************************************************\n"
     ]
    }
   ],
   "source": [
    "for i in restaurants_name:\n",
    "    print(df2.loc[df2['Name'] == i])\n",
    "    yeni_puan = (float(input(f'Restorantlara puan veriniz(5.0 - 3.0) : ')))\n",
    "    print(yeni_puan)\n",
    "    df2.loc[df2['Name'] == i, 'Reviews'] = yeni_puan\n",
    "    print(df2.loc[df2['Name'] == i])\n",
    "    print(\"***************\"*7)"
   ]
  },
  {
   "cell_type": "code",
   "execution_count": 156,
   "id": "038814a3",
   "metadata": {},
   "outputs": [
    {
     "data": {
      "text/plain": [
       "NY    649\n",
       "TX    612\n",
       "CA    608\n",
       "WA    606\n",
       "NJ    561\n",
       "PA      9\n",
       "OR      2\n",
       "        1\n",
       "Name: Location, dtype: int64"
      ]
     },
     "execution_count": 156,
     "metadata": {},
     "output_type": "execute_result"
    }
   ],
   "source": [
    "#lokasyonların dağılımına bakıyoruz.\n",
    "df2.Location.value_counts()"
   ]
  },
  {
   "cell_type": "code",
   "execution_count": 157,
   "id": "4722b22a",
   "metadata": {},
   "outputs": [],
   "source": [
    "#boş olan lokasyon vardı onu siliyoruz.\n",
    "df2.drop(df2[df2.Location == ''].index , inplace=True)"
   ]
  },
  {
   "cell_type": "code",
   "execution_count": 158,
   "id": "ef3f0770",
   "metadata": {},
   "outputs": [
    {
     "data": {
      "text/html": [
       "<div>\n",
       "<style scoped>\n",
       "    .dataframe tbody tr th:only-of-type {\n",
       "        vertical-align: middle;\n",
       "    }\n",
       "\n",
       "    .dataframe tbody tr th {\n",
       "        vertical-align: top;\n",
       "    }\n",
       "\n",
       "    .dataframe thead th {\n",
       "        text-align: right;\n",
       "    }\n",
       "</style>\n",
       "<table border=\"1\" class=\"dataframe\">\n",
       "  <thead>\n",
       "    <tr style=\"text-align: right;\">\n",
       "      <th></th>\n",
       "      <th>Name</th>\n",
       "      <th>Location</th>\n",
       "      <th>Type</th>\n",
       "      <th>Reviews</th>\n",
       "      <th>Price_Range</th>\n",
       "    </tr>\n",
       "  </thead>\n",
       "  <tbody>\n",
       "    <tr>\n",
       "      <th>0</th>\n",
       "      <td>Betty Lou's Seafood and Grill</td>\n",
       "      <td>CA</td>\n",
       "      <td>Seafood, Vegetarian Friendly, Vegan Options</td>\n",
       "      <td>4.5</td>\n",
       "      <td>orta</td>\n",
       "    </tr>\n",
       "    <tr>\n",
       "      <th>1</th>\n",
       "      <td>Coach House Diner</td>\n",
       "      <td>NJ</td>\n",
       "      <td>Diner, American, Vegetarian Friendly</td>\n",
       "      <td>4.0</td>\n",
       "      <td>orta</td>\n",
       "    </tr>\n",
       "    <tr>\n",
       "      <th>2</th>\n",
       "      <td>Table Talk Diner</td>\n",
       "      <td>NY</td>\n",
       "      <td>American, Diner, Vegetarian Friendly</td>\n",
       "      <td>4.0</td>\n",
       "      <td>orta</td>\n",
       "    </tr>\n",
       "    <tr>\n",
       "      <th>3</th>\n",
       "      <td>Sixty Vines</td>\n",
       "      <td>TX</td>\n",
       "      <td>American, Wine Bar, Vegetarian Friendly</td>\n",
       "      <td>4.5</td>\n",
       "      <td>orta</td>\n",
       "    </tr>\n",
       "    <tr>\n",
       "      <th>4</th>\n",
       "      <td>The Clam Bar</td>\n",
       "      <td>NY</td>\n",
       "      <td>American, Bar, Seafood</td>\n",
       "      <td>4.0</td>\n",
       "      <td>orta</td>\n",
       "    </tr>\n",
       "    <tr>\n",
       "      <th>...</th>\n",
       "      <td>...</td>\n",
       "      <td>...</td>\n",
       "      <td>...</td>\n",
       "      <td>...</td>\n",
       "      <td>...</td>\n",
       "    </tr>\n",
       "    <tr>\n",
       "      <th>3057</th>\n",
       "      <td>Indigo Kitchen &amp; Ale House</td>\n",
       "      <td>WA</td>\n",
       "      <td>American, Bar, Vegetarian Friendly</td>\n",
       "      <td>4.5</td>\n",
       "      <td>orta</td>\n",
       "    </tr>\n",
       "    <tr>\n",
       "      <th>3058</th>\n",
       "      <td>City Vineyard</td>\n",
       "      <td>NY</td>\n",
       "      <td>American, Bar, Seafood</td>\n",
       "      <td>4.5</td>\n",
       "      <td>orta</td>\n",
       "    </tr>\n",
       "    <tr>\n",
       "      <th>3059</th>\n",
       "      <td>BRIO Tuscan Grille</td>\n",
       "      <td>NJ</td>\n",
       "      <td>Steakhouse, Italian, Bar</td>\n",
       "      <td>4.0</td>\n",
       "      <td>orta</td>\n",
       "    </tr>\n",
       "    <tr>\n",
       "      <th>3060</th>\n",
       "      <td>Maywood Pancake house</td>\n",
       "      <td>NJ</td>\n",
       "      <td>American, Vegan Options, Gluten Free Options</td>\n",
       "      <td>4.0</td>\n",
       "      <td>orta</td>\n",
       "    </tr>\n",
       "    <tr>\n",
       "      <th>3061</th>\n",
       "      <td>Porto Leggero</td>\n",
       "      <td>NJ</td>\n",
       "      <td>Italian, Vegetarian Friendly, Vegan Options</td>\n",
       "      <td>4.5</td>\n",
       "      <td>pahalı</td>\n",
       "    </tr>\n",
       "  </tbody>\n",
       "</table>\n",
       "<p>3047 rows × 5 columns</p>\n",
       "</div>"
      ],
      "text/plain": [
       "                               Name Location  \\\n",
       "0     Betty Lou's Seafood and Grill       CA   \n",
       "1                 Coach House Diner       NJ   \n",
       "2                  Table Talk Diner       NY   \n",
       "3                       Sixty Vines       TX   \n",
       "4                      The Clam Bar       NY   \n",
       "...                             ...      ...   \n",
       "3057     Indigo Kitchen & Ale House       WA   \n",
       "3058                  City Vineyard       NY   \n",
       "3059             BRIO Tuscan Grille       NJ   \n",
       "3060          Maywood Pancake house       NJ   \n",
       "3061                  Porto Leggero       NJ   \n",
       "\n",
       "                                               Type  Reviews Price_Range  \n",
       "0       Seafood, Vegetarian Friendly, Vegan Options      4.5        orta  \n",
       "1              Diner, American, Vegetarian Friendly      4.0        orta  \n",
       "2              American, Diner, Vegetarian Friendly      4.0        orta  \n",
       "3           American, Wine Bar, Vegetarian Friendly      4.5        orta  \n",
       "4                            American, Bar, Seafood      4.0        orta  \n",
       "...                                             ...      ...         ...  \n",
       "3057             American, Bar, Vegetarian Friendly      4.5        orta  \n",
       "3058                         American, Bar, Seafood      4.5        orta  \n",
       "3059                       Steakhouse, Italian, Bar      4.0        orta  \n",
       "3060   American, Vegan Options, Gluten Free Options      4.0        orta  \n",
       "3061    Italian, Vegetarian Friendly, Vegan Options      4.5      pahalı  \n",
       "\n",
       "[3047 rows x 5 columns]"
      ]
     },
     "execution_count": 158,
     "metadata": {},
     "output_type": "execute_result"
    }
   ],
   "source": [
    "df2"
   ]
  },
  {
   "cell_type": "code",
   "execution_count": 159,
   "id": "42cd2827",
   "metadata": {},
   "outputs": [],
   "source": [
    "#Type da yazan restorant içeriklerini \",\" ile tek tek ayırıp liste halinde kaydediyoruz.\n",
    "types = [i.strip() for i in np.unique(sum([i.split(',') for i in df2.Type.to_numpy()], [])).tolist()]"
   ]
  },
  {
   "cell_type": "code",
   "execution_count": 160,
   "id": "856d0499",
   "metadata": {},
   "outputs": [],
   "source": [
    "#tf idf vektörü sayesinde type parametresini vektörlere ayırıyoruz.\n",
    "from sklearn.feature_extraction.text import TfidfVectorizer\n",
    "tf = TfidfVectorizer(lowercase=False)\n",
    "tf = tf.fit(types)"
   ]
  },
  {
   "cell_type": "code",
   "execution_count": 161,
   "id": "f2f8382e",
   "metadata": {},
   "outputs": [
    {
     "name": "stdout",
     "output_type": "stream",
     "text": [
      "Lokasyon Seçiniz ('CA' 'NJ' 'NY' 'TX' 'WA' 'OR' 'PA'):CA\n",
      "Bütçe Seçiniz ('orta' 'pahalı' 'ucuz'):ORTA\n"
     ]
    }
   ],
   "source": [
    "# lokasyonu seçtiriyoruz. büyük harf veya küçük harf sorunu olmamması için upper yapıyoruz. \n",
    "choice_loc = input(f'Lokasyon Seçiniz ({str(df2.Location.unique()).strip(\"[]\")}):').upper()\n",
    "# bütçemizi seçtiriyoruz. büyük harf veya küçük harf sorunu olmaması için lower yapıyoruz.\n",
    "choice_price = input(f'Bütçe Seçiniz ({str(df2.Price_Range.unique()).strip(\"[]\")}):').lower()"
   ]
  },
  {
   "cell_type": "code",
   "execution_count": 162,
   "id": "bfd1c6e7",
   "metadata": {},
   "outputs": [
    {
     "name": "stdout",
     "output_type": "stream",
     "text": [
      "['African', 'American', 'Argentinean', 'Armenian', 'Asian', 'Australian', 'Bahamian', 'Bakeries', 'Bar', 'Barbecue', 'Beer restaurants', 'Belgian', 'Brazilian', 'Brew Pub', 'British', 'Burmese', 'Cafe', 'Cajun & Creole', 'Campania', 'Caribbean', 'Catalan', 'Central American', 'Central European', 'Central-Italian', 'Chinese', 'Colombian', 'Contemporary', 'Cuban', 'Deli', 'Dessert', 'Dine With a Local Chef', 'Diner', 'Eastern European', 'Egyptian', 'Ethiopian', 'European', 'Fast Food', 'French', 'Fusion', 'Gastropub', 'German', 'Gluten Free Options', 'Greek', 'Grill', 'Halal', 'Hawaiian', 'Healthy', 'Hungarian', 'Indian', 'Indonesian', 'International', 'Irish', 'Israeli', 'Italian', 'Jamaican', 'Japanese', 'Korean', 'Kosher', 'Latin', 'Lebanese', 'Mediterranean', 'Mexican', 'Middle Eastern', 'Mongolian', 'Moroccan', 'Neapolitan', 'Nepali', 'Northern-Italian', 'Pakistani', 'Persian', 'Peruvian', 'Pizza', 'Polish', 'Polynesian', 'Portuguese', 'Pub', 'Puerto Rican', 'Quick Bites', 'Russian', 'Scandinavian', 'Seafood', 'Sicilian', 'Singaporean', 'Soups', 'South American', 'Southwestern', 'Spanish', 'Sri Lankan', 'Steakhouse', 'Street Food', 'Sushi', 'Swedish', 'Taiwanese', 'Thai', 'Tibetan', 'Turkish', 'Tuscan', 'Vegan Options', 'Vegetarian Friendly', 'Vietnamese']\n"
     ]
    }
   ],
   "source": [
    "#yemek çeşitlerini tek tek gösteriyoruz. \n",
    "print(str(types[1:-1]))"
   ]
  },
  {
   "cell_type": "code",
   "execution_count": 163,
   "id": "547bd776",
   "metadata": {},
   "outputs": [
    {
     "name": "stdout",
     "output_type": "stream",
     "text": [
      "Yukarıdaki Listeden 3 Adet Tür Seçiniz: American\n",
      "Yukarıdaki Listeden 2 Adet Tür Seçiniz: Asian\n",
      "Yukarıdaki Listeden 1 Adet Tür Seçiniz: Bar\n"
     ]
    }
   ],
   "source": [
    "#Yukarıda oluşturduğumuz listeden üç çeşit seçilmesini istiyoruz.\n",
    "choice_types = [', '.join([str(input(f'Yukarıdaki Listeden {3-i} Adet Tür Seçiniz: ')).title() for i in range(3)])]"
   ]
  },
  {
   "cell_type": "code",
   "execution_count": 164,
   "id": "498a785a",
   "metadata": {},
   "outputs": [],
   "source": [
    "#seçilen seçenekleritf ıdf uyguluyoruz.\n",
    "vec1 = tf.transform(choice_types)"
   ]
  },
  {
   "cell_type": "code",
   "execution_count": 165,
   "id": "45524fef",
   "metadata": {},
   "outputs": [],
   "source": [
    "#lokasyon ve fiyatlara göre yni dataframeler oluşturuyoruz\n",
    "new_df = df2[df2.Location == choice_loc]\n",
    "new_df = new_df[new_df.Price_Range == choice_price]"
   ]
  },
  {
   "cell_type": "code",
   "execution_count": 166,
   "id": "a65fffda",
   "metadata": {},
   "outputs": [],
   "source": [
    "# uzaklık hesaplaması ile dükkan belirliyoruz. \n",
    "from sklearn.metrics.pairwise import cosine_similarity\n",
    "cos_sim = []\n",
    "for i in new_df.Type:\n",
    "    vec2 = tf.transform([i])\n",
    "    cos = cosine_similarity(vec1, vec2)\n",
    "    cos_sim.append(cos[0][0])"
   ]
  },
  {
   "cell_type": "code",
   "execution_count": 167,
   "id": "eaadcdc1",
   "metadata": {},
   "outputs": [],
   "source": [
    "#dükkanın adını uzaklığını ve puanlarını ekrana göstermek için data frame oluşturuyoruz.\n",
    "d = {'Name': new_df.Name, 'Cosine': cos_sim, 'Reviews': new_df.Reviews}\n",
    "sim_df = pd.DataFrame(data=d)"
   ]
  },
  {
   "cell_type": "code",
   "execution_count": 168,
   "id": "ae205e9e",
   "metadata": {},
   "outputs": [
    {
     "data": {
      "text/html": [
       "<div>\n",
       "<style scoped>\n",
       "    .dataframe tbody tr th:only-of-type {\n",
       "        vertical-align: middle;\n",
       "    }\n",
       "\n",
       "    .dataframe tbody tr th {\n",
       "        vertical-align: top;\n",
       "    }\n",
       "\n",
       "    .dataframe thead th {\n",
       "        text-align: right;\n",
       "    }\n",
       "</style>\n",
       "<table border=\"1\" class=\"dataframe\">\n",
       "  <thead>\n",
       "    <tr style=\"text-align: right;\">\n",
       "      <th></th>\n",
       "      <th>Name</th>\n",
       "      <th>Cosine</th>\n",
       "      <th>Reviews</th>\n",
       "    </tr>\n",
       "  </thead>\n",
       "  <tbody>\n",
       "    <tr>\n",
       "      <th>1161</th>\n",
       "      <td>Upper West</td>\n",
       "      <td>1.000000</td>\n",
       "      <td>4.5</td>\n",
       "    </tr>\n",
       "    <tr>\n",
       "      <th>2807</th>\n",
       "      <td>Cork &amp; Fork</td>\n",
       "      <td>0.849004</td>\n",
       "      <td>4.5</td>\n",
       "    </tr>\n",
       "    <tr>\n",
       "      <th>575</th>\n",
       "      <td>Firehouse No.1</td>\n",
       "      <td>0.782731</td>\n",
       "      <td>4.0</td>\n",
       "    </tr>\n",
       "    <tr>\n",
       "      <th>1065</th>\n",
       "      <td>Observation Bar</td>\n",
       "      <td>0.782731</td>\n",
       "      <td>4.0</td>\n",
       "    </tr>\n",
       "    <tr>\n",
       "      <th>2607</th>\n",
       "      <td>Garlic Brothers</td>\n",
       "      <td>0.782731</td>\n",
       "      <td>4.0</td>\n",
       "    </tr>\n",
       "  </tbody>\n",
       "</table>\n",
       "</div>"
      ],
      "text/plain": [
       "                 Name    Cosine  Reviews\n",
       "1161       Upper West  1.000000      4.5\n",
       "2807      Cork & Fork  0.849004      4.5\n",
       "575    Firehouse No.1  0.782731      4.0\n",
       "1065  Observation Bar  0.782731      4.0\n",
       "2607  Garlic Brothers  0.782731      4.0"
      ]
     },
     "execution_count": 168,
     "metadata": {},
     "output_type": "execute_result"
    }
   ],
   "source": [
    "#oluştuduğumuz dateframe de en iyi 5 restorantı gösteriyoruz. \n",
    "sim_df.nlargest(5, ['Cosine']).sort_values(by='Reviews', ascending=False)"
   ]
  },
  {
   "cell_type": "code",
   "execution_count": null,
   "id": "02783d58",
   "metadata": {},
   "outputs": [],
   "source": []
  },
  {
   "cell_type": "code",
   "execution_count": null,
   "id": "8191cd24",
   "metadata": {},
   "outputs": [],
   "source": []
  }
 ],
 "metadata": {
  "kernelspec": {
   "display_name": "Python 3 (ipykernel)",
   "language": "python",
   "name": "python3"
  },
  "language_info": {
   "codemirror_mode": {
    "name": "ipython",
    "version": 3
   },
   "file_extension": ".py",
   "mimetype": "text/x-python",
   "name": "python",
   "nbconvert_exporter": "python",
   "pygments_lexer": "ipython3",
   "version": "3.9.12"
  }
 },
 "nbformat": 4,
 "nbformat_minor": 5
}
